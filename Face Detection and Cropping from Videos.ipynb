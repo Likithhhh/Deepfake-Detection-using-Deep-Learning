{
 "cells": [
  {
   "cell_type": "markdown",
   "metadata": {},
   "source": [
    "### Import Libraries\n"
   ]
  },
  {
   "cell_type": "code",
   "execution_count": null,
   "metadata": {},
   "outputs": [],
   "source": [
    "%pip install mediapipe"
   ]
  },
  {
   "cell_type": "code",
   "execution_count": null,
   "metadata": {},
   "outputs": [],
   "source": [
    "import os\n",
    "import cv2\n",
    "import time\n",
    "import numpy as np\n",
    "import pandas as pd\n",
    "import mediapipe as mp\n",
    "from tqdm import tqdm\n"
   ]
  },
  {
   "cell_type": "markdown",
   "metadata": {},
   "source": [
    "### Output Video Creation "
   ]
  },
  {
   "cell_type": "code",
   "execution_count": null,
   "metadata": {},
   "outputs": [],
   "source": [
    "def create_output_video(face_frames, output_path, fps, max_frames):\n",
    "    writer = cv2.VideoWriter(output_path, cv2.VideoWriter_fourcc(*'mp4v'), fps, (112, 112))\n",
    "    for i in range(max_frames):\n",
    "        writer.write(face_frames[i] if i < len(face_frames) else np.zeros((112, 112, 3), dtype=np.uint8))\n",
    "    writer.release()\n"
   ]
  },
  {
   "cell_type": "markdown",
   "metadata": {},
   "source": [
    "### Video Processing "
   ]
  },
  {
   "cell_type": "code",
   "execution_count": null,
   "metadata": {},
   "outputs": [],
   "source": [
    "def process_video(video_path, output_folder, detector, max_frames=300):\n",
    "    cap = cv2.VideoCapture(video_path)\n",
    "    fps, width, height = cap.get(cv2.CAP_PROP_FPS), int(cap.get(cv2.CAP_PROP_FRAME_WIDTH)), int(cap.get(cv2.CAP_PROP_FRAME_HEIGHT))\n",
    "    output_path = os.path.join(output_folder, f\"{os.path.splitext(os.path.basename(video_path))[0]}.mp4\")\n",
    "    os.makedirs(output_folder, exist_ok=True)\n",
    "\n",
    "    face_frames = []\n",
    "    while True:\n",
    "        ret, frame = cap.read()\n",
    "        if not ret: break\n",
    "\n",
    "        results = detector.process(cv2.cvtColor(frame, cv2.COLOR_BGR2RGB))\n",
    "        if results.detections:\n",
    "            ih, iw, _ = frame.shape\n",
    "            for detection in results.detections:\n",
    "                bbox = detection.location_data.relative_bounding_box\n",
    "                x1, y1, x2, y2 = [int(max(min(v * dim, dim - 1), 0)) for v, dim in zip(\n",
    "                    [bbox.xmin, bbox.ymin, bbox.xmin + bbox.width, bbox.ymin + bbox.height], [iw, ih, iw, ih])]\n",
    "                face = frame[y1:y2, x1:x2]\n",
    "                if face.size > 0:\n",
    "                    face_frames.append(cv2.resize(face, (112, 112)))\n",
    "\n",
    "    cap.release()\n",
    "    create_output_video(face_frames, output_path, fps, max_frames)\n",
    "    return output_path\n"
   ]
  },
  {
   "cell_type": "markdown",
   "metadata": {},
   "source": [
    "### Folder Processing "
   ]
  },
  {
   "cell_type": "code",
   "execution_count": null,
   "metadata": {},
   "outputs": [],
   "source": [
    "def process_folder(input_folder, output_folder):\n",
    "    detector = mp.solutions.face_detection.FaceDetection(min_detection_confidence=0.7)\n",
    "    video_files = [f for f in os.listdir(input_folder) if f.endswith(('.mp4', '.avi', '.mov'))]\n",
    "    all_face_videos = []\n",
    "\n",
    "    with tqdm(total=len(video_files), desc=\"Overall Progress\") as pbar:\n",
    "        for video_file in video_files:\n",
    "            video_path = os.path.join(input_folder, video_file)\n",
    "            all_face_videos.append(process_video(video_path, output_folder, detector))\n",
    "            pbar.update(1)\n",
    "\n",
    "    detector.close()\n",
    "    return all_face_videos\n"
   ]
  },
  {
   "cell_type": "markdown",
   "metadata": {},
   "source": [
    "### Main Function"
   ]
  },
  {
   "cell_type": "code",
   "execution_count": null,
   "metadata": {},
   "outputs": [],
   "source": [
    "def main():\n",
    "    input_folder = \"path/to/input/folder\"\n",
    "    output_folder = \"path/to/output/folder\"\n",
    "    \n",
    "    start_time = time.time()\n",
    "    face_videos = process_folder(input_folder, output_folder)\n",
    "    total_time = time.time() - start_time\n",
    "\n",
    "    total_videos = len([f for f in os.listdir(input_folder) if f.endswith(('.mp4', '.avi', '.mov'))])\n",
    "    print(f\"Detected faces: {len(face_videos)}\")\n",
    "    print(f\"Total time taken: {total_time:.2f} seconds\")\n",
    "    print(f\"Total videos processed: {total_videos}\")\n",
    "\n",
    "if __name__ == \"__main__\":\n",
    "    main()\n"
   ]
  },
  {
   "cell_type": "markdown",
   "metadata": {},
   "source": [
    "### Creating labels in CSV"
   ]
  },
  {
   "cell_type": "code",
   "execution_count": null,
   "metadata": {},
   "outputs": [],
   "source": [
    "\n",
    "def get_file_names(folder_path, label):\n",
    "    file_names = os.listdir(folder_path)\n",
    "    labeled_files = [(file_name, label) for file_name in file_names]\n",
    "    return labeled_files\n",
    "\n",
    "fake_folder_path = \"path/to/fake/videos\"\n",
    "real_folder_path = \"path/to/real/videos\"\n",
    "\n",
    "fake_files = get_file_names(fake_folder_path, \"FAKE\")\n",
    "real_files = get_file_names(real_folder_path, \"REAL\")\n",
    "all_files = fake_files + real_files\n",
    "\n",
    "df = pd.DataFrame(all_files, columns=[\"File Names\", \"Label\"])\n",
    "df.to_csv(\"label.csv\", index=False)\n"
   ]
  },
  {
   "cell_type": "code",
   "execution_count": null,
   "metadata": {},
   "outputs": [],
   "source": [
    "df.head()"
   ]
  }
 ],
 "metadata": {
  "language_info": {
   "name": "python"
  }
 },
 "nbformat": 4,
 "nbformat_minor": 2
}
